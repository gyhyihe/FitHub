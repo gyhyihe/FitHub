{
 "cells": [
  {
   "cell_type": "code",
   "execution_count": null,
   "metadata": {},
   "outputs": [],
   "source": [
    "from django.db import connection, IntegrityError\n",
    "from django.db.models import Count, query\n",
    "from login.models import Member, Class, Staff, MemberLevel\n",
    "\n",
    "mname = 'Melody'\n",
    "with connection.cursor() as cursor:\n",
    "        cursor.execute(\"SELECT m.name, m.email, m.phone_number, m.funds, m.expired_date FROM login_member m WHERE m.name = %s\", [mname])\n",
    "        \n",
    "with connection.cursor() as cursor:\n",
    "        cursor.execute(\"SELECT l.level_status FROM login_memberlevel l, login_member m WHERE m.name = %s AND m.level_id = l.level_status\", [mname])\n",
    "        level = cursor.fetchone()\n",
    "                                                                                                                                            \n",
    "                                                                                                                                            \n",
    "with connection.cursor() as cursor:\n",
    "        cursor.execute(\"SELECT c.id, c.name, c.location, c.time_day, c.time_start, c.time_end FROM login_member_classes l, login_class c WHERE l.member_id = %s AND l.class_id = c.id\" , [3])                                                                                                                                 \n",
    "        rows = cursor.fetchall()                                                                                                                                    \n",
    "                                                                                                                                            \n",
    "                                                                                                                                            \n",
    "                                                                                                                                            \n",
    "                                                                                                                                            \n",
    "                                                                                                                                                                                                                                                                                     \n",
    "with connection.cursor() as cursor:\n",
    "        cursor.execute(\"SELECT c.id, c.name, c.location, c.time_day, c.time_start, c.time_end, s.name FROM login_class c, login_staff s WHERE c.id = %s AND s.user_id = c.staff_id\" , [class_id])                                                                                                                                 \n",
    "        cls = cursor.fetchone()                                                                                                                                         \n",
    "                                                                                                                                            \n",
    "                                                                                                                                            \n",
    "with connection.cursor() as cursor:\n",
    "    cursor.execute(\"SELECT * FROM login_class\")\n",
    "    rows = cursor.fetchall()\n",
    "                                                                                                                                            \n",
    "                                                                                                                                            "
   ]
  },
  {
   "cell_type": "code",
   "execution_count": null,
   "metadata": {},
   "outputs": [],
   "source": []
  }
 ],
 "metadata": {
  "kernelspec": {
   "display_name": "Python 3",
   "language": "python",
   "name": "python3"
  },
  "language_info": {
   "codemirror_mode": {
    "name": "ipython",
    "version": 3
   },
   "file_extension": ".py",
   "mimetype": "text/x-python",
   "name": "python",
   "nbconvert_exporter": "python",
   "pygments_lexer": "ipython3",
   "version": "3.7.1"
  }
 },
 "nbformat": 4,
 "nbformat_minor": 2
}
